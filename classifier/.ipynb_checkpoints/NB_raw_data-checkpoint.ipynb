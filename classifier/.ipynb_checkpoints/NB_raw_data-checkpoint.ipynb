{
 "cells": [
  {
   "cell_type": "markdown",
   "metadata": {},
   "source": [
    "# Scores for Naive Bayes classifier"
   ]
  },
  {
   "cell_type": "markdown",
   "metadata": {},
   "source": [
    "## Importing necessary libraries"
   ]
  },
  {
   "cell_type": "code",
   "execution_count": 1,
   "metadata": {
    "collapsed": true
   },
   "outputs": [],
   "source": [
    "import pandas as pd \n",
    "import numpy as np \n",
    "from sklearn.metrics import roc_auc_score\n",
    "from sklearn.metrics import accuracy_score\n",
    "from sklearn.metrics import confusion_matrix\n",
    "from sklearn.naive_bayes import GaussianNB"
   ]
  },
  {
   "cell_type": "markdown",
   "metadata": {},
   "source": [
    "## The train and test set\n",
    "\n",
    "The train and test set have already been provided seperately. Hence, we'll simply read them using __fordTrain.csv__ and __fordTest.csv__.\n",
    "\n",
    "Also, we'll drop the __TrialID__ and __ObsNum__, because they are of no significance to our classification model.\n",
    "\n",
    "We'll also drop __P8__,__V7__,__V9__ because they are zero for every data point."
   ]
  },
  {
   "cell_type": "code",
   "execution_count": 2,
   "metadata": {
    "collapsed": true
   },
   "outputs": [],
   "source": [
    "df=pd.read_csv('data/fordTrain.csv')\n",
    "df1=pd.read_csv('data/fordTest.csv')\n",
    "\n",
    "df=df.drop(['TrialID','ObsNum','P8','V7','V9'],axis=1) \n",
    "df1=df1.drop(['TrialID','ObsNum','P8','V7','V9'],axis=1)"
   ]
  },
  {
   "cell_type": "code",
   "execution_count": 3,
   "metadata": {
    "collapsed": true
   },
   "outputs": [],
   "source": [
    "\n",
    "\n",
    "Y_train=df['IsAlert']  # The labels for the train set\n",
    "X_train=df.drop(['IsAlert'],axis=1) # The features of the train set\n",
    "\n",
    "Y_test=df1['IsAlert'] # The labels for the test set\n",
    "X_test=df1.drop(['IsAlert'],axis=1) # The features of the test set"
   ]
  },
  {
   "cell_type": "markdown",
   "metadata": {},
   "source": [
    "## Feature set for different modalities\n",
    "\n",
    "We will now construct four types of feature sets:\n",
    "* Physiological\n",
    "* Environmental\n",
    "* Vehicular\n",
    "* Physiological, Environmental and Vehicular"
   ]
  },
  {
   "cell_type": "code",
   "execution_count": 4,
   "metadata": {
    "collapsed": true,
    "scrolled": true
   },
   "outputs": [],
   "source": [
    "F1_train=X_train.iloc[:,0:7].copy()"
   ]
  },
  {
   "cell_type": "code",
   "execution_count": 5,
   "metadata": {
    "collapsed": true
   },
   "outputs": [],
   "source": [
    "F2_train=X_train.iloc[:,7:18].copy()"
   ]
  },
  {
   "cell_type": "code",
   "execution_count": 6,
   "metadata": {
    "collapsed": true
   },
   "outputs": [],
   "source": [
    "F3_train=X_train.iloc[:,18:].copy()"
   ]
  },
  {
   "cell_type": "code",
   "execution_count": 7,
   "metadata": {
    "collapsed": true
   },
   "outputs": [],
   "source": [
    "F1_test=X_test.iloc[:,0:7].copy()\n",
    "F2_test=X_test.iloc[:,7:18].copy()\n",
    "F3_test=X_test.iloc[:,18:].copy()"
   ]
  },
  {
   "cell_type": "code",
   "execution_count": 8,
   "metadata": {
    "collapsed": true
   },
   "outputs": [],
   "source": [
    "F123_train=pd.concat([F1_train,F2_train,F3_train],axis=1)\n",
    "F123_test=pd.concat([F1_test,F2_test,F3_test],axis=1)"
   ]
  },
  {
   "cell_type": "markdown",
   "metadata": {},
   "source": [
    "## Training and evaluating our Naive Bayes model"
   ]
  },
  {
   "cell_type": "code",
   "execution_count": 10,
   "metadata": {
    "collapsed": true
   },
   "outputs": [],
   "source": [
    "model = GaussianNB()"
   ]
  },
  {
   "cell_type": "markdown",
   "metadata": {},
   "source": [
    "### Utility function\n",
    "This is a utility function to find out the specificity and sensitivity given the confusion matrix."
   ]
  },
  {
   "cell_type": "code",
   "execution_count": 11,
   "metadata": {
    "collapsed": true
   },
   "outputs": [],
   "source": [
    "def specandsens(a):\n",
    "    spec=a[1][1]/(a[1][1]+a[1][0])\n",
    "    sens=a[0][0]/(a[0][0]+a[0][1])\n",
    "    return spec,sens"
   ]
  },
  {
   "cell_type": "markdown",
   "metadata": {},
   "source": [
    "### Fitting and evaluating our model"
   ]
  },
  {
   "cell_type": "markdown",
   "metadata": {},
   "source": [
    "__Fitting the model on Physiological (P) feature set__"
   ]
  },
  {
   "cell_type": "code",
   "execution_count": 12,
   "metadata": {},
   "outputs": [
    {
     "data": {
      "text/plain": [
       "GaussianNB(priors=None)"
      ]
     },
     "execution_count": 12,
     "metadata": {},
     "output_type": "execute_result"
    }
   ],
   "source": [
    "model.fit(F1_train,Y_train)"
   ]
  },
  {
   "cell_type": "markdown",
   "metadata": {},
   "source": [
    "__Evaluating the model__"
   ]
  },
  {
   "cell_type": "code",
   "execution_count": 13,
   "metadata": {},
   "outputs": [
    {
     "name": "stdout",
     "output_type": "stream",
     "text": [
      "train accuracy for P:  0.439901113466\n",
      "test accuracy for P:  0.260311155247\n"
     ]
    }
   ],
   "source": [
    "print(\"train accuracy for P: \",accuracy_score(model.predict(F1_train),Y_train))\n",
    "print(\"test accuracy for P: \",accuracy_score(model.predict(F1_test),Y_test))"
   ]
  },
  {
   "cell_type": "code",
   "execution_count": 14,
   "metadata": {
    "collapsed": true
   },
   "outputs": [],
   "source": [
    "confmatrix=confusion_matrix(Y_test, model.predict(F1_test))\n",
    "spec,sens=specandsens(confmatrix)\n",
    "Y_pred_prob=model.predict_proba(F1_test)[:,1]"
   ]
  },
  {
   "cell_type": "code",
   "execution_count": 15,
   "metadata": {},
   "outputs": [
    {
     "name": "stdout",
     "output_type": "stream",
     "text": [
      "0.431457369575\n",
      "0.0236236060093 0.979741926857\n"
     ]
    }
   ],
   "source": [
    "print(roc_auc_score(Y_test,Y_pred_prob))\n",
    "print(spec,sens)"
   ]
  },
  {
   "cell_type": "markdown",
   "metadata": {},
   "source": [
    "__Fitting the model on Environmental (E) feature set__"
   ]
  },
  {
   "cell_type": "code",
   "execution_count": 16,
   "metadata": {},
   "outputs": [
    {
     "data": {
      "text/plain": [
       "GaussianNB(priors=None)"
      ]
     },
     "execution_count": 16,
     "metadata": {},
     "output_type": "execute_result"
    }
   ],
   "source": [
    "model.fit(F2_train,Y_train)"
   ]
  },
  {
   "cell_type": "markdown",
   "metadata": {},
   "source": [
    "__Evaluating the model__"
   ]
  },
  {
   "cell_type": "code",
   "execution_count": 17,
   "metadata": {},
   "outputs": [
    {
     "name": "stdout",
     "output_type": "stream",
     "text": [
      "train accuracy for E:  0.694499188356\n",
      "test accuracy for E:  0.833490566038\n"
     ]
    }
   ],
   "source": [
    "print(\"train accuracy for E: \",accuracy_score(model.predict(F2_train),Y_train))\n",
    "print(\"test accuracy for E: \",accuracy_score(model.predict(F2_test),Y_test))"
   ]
  },
  {
   "cell_type": "code",
   "execution_count": 18,
   "metadata": {
    "collapsed": true
   },
   "outputs": [],
   "source": [
    "confmatrix=confusion_matrix(Y_test, model.predict(F2_test))\n",
    "spec,sens=specandsens(confmatrix)\n",
    "Y_pred_prob=model.predict_proba(F2_test)[:,1]"
   ]
  },
  {
   "cell_type": "code",
   "execution_count": 19,
   "metadata": {},
   "outputs": [
    {
     "name": "stdout",
     "output_type": "stream",
     "text": [
      "0.928887226976 0.54352477101\n",
      "0.733575643752\n"
     ]
    }
   ],
   "source": [
    "print(spec,sens)\n",
    "print(roc_auc_score(Y_test,Y_pred_prob))"
   ]
  },
  {
   "cell_type": "markdown",
   "metadata": {},
   "source": [
    "__Fitting the model on Vehicular (V) feature set__"
   ]
  },
  {
   "cell_type": "code",
   "execution_count": 20,
   "metadata": {},
   "outputs": [
    {
     "data": {
      "text/plain": [
       "GaussianNB(priors=None)"
      ]
     },
     "execution_count": 20,
     "metadata": {},
     "output_type": "execute_result"
    }
   ],
   "source": [
    "model.fit(F3_train,Y_train)"
   ]
  },
  {
   "cell_type": "markdown",
   "metadata": {},
   "source": [
    "__Evaluating the model__"
   ]
  },
  {
   "cell_type": "code",
   "execution_count": 21,
   "metadata": {
    "scrolled": true
   },
   "outputs": [
    {
     "name": "stdout",
     "output_type": "stream",
     "text": [
      "train accuracy for V:  0.585503922532\n",
      "test accuracy for V:  0.403748758689\n"
     ]
    }
   ],
   "source": [
    "print(\"train accuracy for V: \",accuracy_score(model.predict(F3_train),Y_train))\n",
    "print(\"test accuracy for V: \",accuracy_score(model.predict(F3_test),Y_test))"
   ]
  },
  {
   "cell_type": "code",
   "execution_count": 22,
   "metadata": {
    "collapsed": true
   },
   "outputs": [],
   "source": [
    "confmatrix=confusion_matrix(Y_test, model.predict(F3_test))\n",
    "spec,sens=specandsens(confmatrix)\n",
    "Y_pred_prob=model.predict_proba(F3_test)[:,1]"
   ]
  },
  {
   "cell_type": "code",
   "execution_count": 23,
   "metadata": {},
   "outputs": [
    {
     "name": "stdout",
     "output_type": "stream",
     "text": [
      "0.272463321822 0.80280136391\n",
      "0.535286928725\n"
     ]
    }
   ],
   "source": [
    "print(spec,sens)# specificity and sensitivity\n",
    "print(roc_auc_score(Y_test,Y_pred_prob))"
   ]
  },
  {
   "cell_type": "markdown",
   "metadata": {},
   "source": [
    "__Fitting the model on the combined (P, E, V) feature set__"
   ]
  },
  {
   "cell_type": "code",
   "execution_count": 24,
   "metadata": {},
   "outputs": [
    {
     "data": {
      "text/plain": [
       "GaussianNB(priors=None)"
      ]
     },
     "execution_count": 24,
     "metadata": {},
     "output_type": "execute_result"
    }
   ],
   "source": [
    "model.fit(F123_train,Y_train)"
   ]
  },
  {
   "cell_type": "markdown",
   "metadata": {},
   "source": [
    "__Evaluating the model__"
   ]
  },
  {
   "cell_type": "code",
   "execution_count": 25,
   "metadata": {},
   "outputs": [
    {
     "name": "stdout",
     "output_type": "stream",
     "text": [
      "train accuracy for P, E, V :  0.644946709491\n",
      "test accuracy for P, E, V :  0.470630585899\n"
     ]
    }
   ],
   "source": [
    "print(\"train accuracy for P, E, V : \",accuracy_score(model.predict(F123_train),Y_train))\n",
    "print(\"test accuracy for P, E, V : \",accuracy_score(model.predict(F123_test),Y_test))"
   ]
  },
  {
   "cell_type": "code",
   "execution_count": 26,
   "metadata": {
    "collapsed": true
   },
   "outputs": [],
   "source": [
    "confmatrix=confusion_matrix(Y_test, model.predict(F123_test))\n",
    "spec,sens=specandsens(confmatrix)\n",
    "Y_pred_prob=model.predict_proba(F123_test)[:,1]"
   ]
  },
  {
   "cell_type": "code",
   "execution_count": 27,
   "metadata": {},
   "outputs": [
    {
     "name": "stdout",
     "output_type": "stream",
     "text": [
      "0.339649825133 0.868757103697\n",
      "0.762632207055\n"
     ]
    }
   ],
   "source": [
    "print(spec,sens)# specificity and sensitivity\n",
    "print(roc_auc_score(Y_test,Y_pred_prob))"
   ]
  }
 ],
 "metadata": {
  "anaconda-cloud": {},
  "kernelspec": {
   "display_name": "Python 3",
   "language": "python",
   "name": "python3"
  },
  "language_info": {
   "codemirror_mode": {
    "name": "ipython",
    "version": 3
   },
   "file_extension": ".py",
   "mimetype": "text/x-python",
   "name": "python",
   "nbconvert_exporter": "python",
   "pygments_lexer": "ipython3",
   "version": "3.6.1"
  }
 },
 "nbformat": 4,
 "nbformat_minor": 2
}
